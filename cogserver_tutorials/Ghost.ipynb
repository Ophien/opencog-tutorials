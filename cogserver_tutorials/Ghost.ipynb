{
 "cells": [
  {
   "cell_type": "markdown",
   "metadata": {},
   "source": [
    "# GHOST\n",
    "\n",
    "GHOST (General Holistic Organism Scripting Tool) is a DSL (Domain-Specific Language) designed to allow human authors to script behaviors for artificial characters. GHOST is inspired by ChatScript in its syntax, it uses ECAN to guide the context formation and rule discovery processes, OpenPsi for internal dynamics modulation and goal-driven rule (action) selection, as well as various other OpenCog cognitive algorithms for handling a wider range of situations in more flexible and intelligent ways."
   ]
  },
  {
   "cell_type": "markdown",
   "metadata": {},
   "source": [
    "###  How To Run\n",
    "It's recommended to run with ghost_bridge. GHOST will be started automatically when you run ghost_bridge.\n",
    "\n",
    "On the other hand, if you want to run GHOST alone, follow the steps below:\n",
    "\n",
    "- Start the RelEx server\n",
    "\n",
    "Note: You will need to do (set-relex-server-host) if you are running it via Docker.\n",
    "\n",
    "- Start the CogServer\n",
    "\n",
    " opencog/build/opencog/cogserver/server/cogserver\n",
    "-  Connect to the CogServer in a new terminal, e.g.\n",
    "\n",
    "telnet localhost 17001\n",
    "-  Load the ECAN module\n",
    "\n",
    "loadmodule opencog/build/opencog/attention/libattention.so\n",
    "-  Start ECAN agents\n",
    "\n",
    "agents-start opencog::AFImportanceDiffusionAgent opencog::WAImportanceDiffusionAgent opencog::AFRentCollectionAgent opencog::WARentCollectionAgent\n"
   ]
  },
  {
   "cell_type": "code",
   "execution_count": 2,
   "metadata": {
    "collapsed": false
   },
   "outputs": [
    {
     "data": {
      "text/plain": [
       "#<unspecified>"
      ]
     },
     "execution_count": 2,
     "metadata": {},
     "output_type": "execute_result"
    }
   ],
   "source": [
    "(use-modules (opencog)\n",
    "             (opencog nlp)\n",
    "             (opencog nlp relex2logic)\n",
    "             (opencog openpsi)\n",
    "             (opencog ghost)\n",
    "             (opencog ghost procedures))"
   ]
  },
  {
   "cell_type": "markdown",
   "metadata": {},
   "source": [
    "Before creating any rules, run"
   ]
  },
  {
   "cell_type": "code",
   "execution_count": 3,
   "metadata": {
    "collapsed": false
   },
   "outputs": [
    {
     "ename": "unbound-variable",
     "evalue": "(#f Unbound variable: ~S (ecan-based-ghost-rules) #f)",
     "output_type": "error",
     "traceback": [
      "\u001b[0;31munbound-variable\u001b[0;32m",
      "(#f Unbound variable: ~S (ecan-based-ghost-rules) #f)"
     ]
    }
   ],
   "source": [
    "(ecan-based-ghost-rules #t)"
   ]
  },
  {
   "cell_type": "markdown",
   "metadata": {},
   "source": [
    "Note, rules being created after running this will be slimmer (preferred) and can only work with this ECAN approach. They are NOT backward-compatible with the test-ghost.\n",
    "\n",
    "- Start authoring, e.g."
   ]
  },
  {
   "cell_type": "code",
   "execution_count": 4,
   "metadata": {
    "collapsed": false
   },
   "outputs": [
    {
     "ename": "unbound-variable",
     "evalue": "(#f Unbound variable: ~S (ghost-parse) #f)",
     "output_type": "error",
     "traceback": [
      "\u001b[0;31munbound-variable\u001b[0;32m",
      "(#f Unbound variable: ~S (ghost-parse) #f)"
     ]
    }
   ],
   "source": [
    "(ghost-parse \"#goal: (novelty=0.24) u: (eat apple) I want an apple\")"
   ]
  },
  {
   "cell_type": "markdown",
   "metadata": {},
   "source": [
    "Or use ghost-parse-files to parse rule files."
   ]
  },
  {
   "cell_type": "code",
   "execution_count": 5,
   "metadata": {
    "collapsed": false
   },
   "outputs": [
    {
     "ename": "unbound-variable",
     "evalue": "(#f Unbound variable: ~S (ghost-parse-files) #f)",
     "output_type": "error",
     "traceback": [
      "\u001b[0;31munbound-variable\u001b[0;32m",
      "(#f Unbound variable: ~S (ghost-parse-files) #f)"
     ]
    }
   ],
   "source": [
    "(ghost-parse-files \"path/to/the/rule/file1\" \"path/to/the/rule/file2\")"
   ]
  },
  {
   "cell_type": "markdown",
   "metadata": {},
   "source": [
    "Start GHOST"
   ]
  },
  {
   "cell_type": "code",
   "execution_count": 6,
   "metadata": {
    "collapsed": false
   },
   "outputs": [
    {
     "ename": "unbound-variable",
     "evalue": "(#f Unbound variable: ~S (ghost-run) #f)",
     "output_type": "error",
     "traceback": [
      "\u001b[0;31munbound-variable\u001b[0;32m",
      "(#f Unbound variable: ~S (ghost-run) #f)"
     ]
    }
   ],
   "source": [
    "(ghost-run)"
   ]
  },
  {
   "cell_type": "markdown",
   "metadata": {},
   "source": [
    "- Send some input, e.g."
   ]
  },
  {
   "cell_type": "code",
   "execution_count": 8,
   "metadata": {
    "collapsed": false
   },
   "outputs": [
    {
     "ename": "unbound-variable",
     "evalue": "(#f Unbound variable: ~S (ghost) #f)",
     "output_type": "error",
     "traceback": [
      "\u001b[0;31munbound-variable\u001b[0;32m",
      "(#f Unbound variable: ~S (ghost) #f)"
     ]
    }
   ],
   "source": [
    "(ghost \"I eat apples\")"
   ]
  },
  {
   "cell_type": "markdown",
   "metadata": {},
   "source": [
    "The output [INFO] [say] (I want an apple) will then be printed on the CogServer.\n",
    "\n",
    "For experimental purpose, you may change the weights (default = 1) of various parameters being used in action selector, by doing **ghost-set-strength-weight, ghost-set-context-weight, ghost-set-sti-weight**, and **ghost-set-urge-weight**, for example:\n",
    "\n"
   ]
  },
  {
   "cell_type": "code",
   "execution_count": 9,
   "metadata": {
    "collapsed": false
   },
   "outputs": [
    {
     "ename": "unbound-variable",
     "evalue": "(#f Unbound variable: ~S (ghost-set-sti-weight) #f)",
     "output_type": "error",
     "traceback": [
      "\u001b[0;31munbound-variable\u001b[0;32m",
      "(#f Unbound variable: ~S (ghost-set-sti-weight) #f)"
     ]
    }
   ],
   "source": [
    "(ghost-set-sti-weight 0.5)\n",
    "(ghost-set-strength-weight 3)"
   ]
  },
  {
   "cell_type": "code",
   "execution_count": null,
   "metadata": {
    "collapsed": true
   },
   "outputs": [],
   "source": []
  }
 ],
 "metadata": {
  "kernelspec": {
   "display_name": "Guile",
   "language": "scheme",
   "name": "guile"
  },
  "language_info": {
   "codemirror_mode": "scheme",
   "file_extension": ".scm",
   "mimetype": "application/x-scheme",
   "name": "guile",
   "pygments_lexer": "scheme",
   "version": "2.2.0"
  }
 },
 "nbformat": 4,
 "nbformat_minor": 0
}
