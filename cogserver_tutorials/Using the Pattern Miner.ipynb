{
 "cells": [
  {
   "cell_type": "markdown",
   "metadata": {},
   "source": [
    "# Using the Pattern Miner"
   ]
  },
  {
   "cell_type": "markdown",
   "metadata": {},
   "source": [
    "Our Pattern Miner is to mine frequent and interesting patterns from Atomspace. It's a hypergraph pattern miner. In abstract, Pattern Mining is the process of extracting an (often large) number of patterns from some body of information, subject to some criterion regarding which patterns are of interest. Often (but not exclusively) it refers to algorithms that are rapid or “greedy”, finding a large number of simple patterns relatively inexpensively."
   ]
  },
  {
   "cell_type": "markdown",
   "metadata": {},
   "source": [
    "First of all, tell guile where it can find opencog stuff. You might want to add the following line to your .guile so it will do it at startup."
   ]
  },
  {
   "cell_type": "code",
   "execution_count": 1,
   "metadata": {},
   "outputs": [],
   "source": [
    "(add-to-load-path \"/usr/local/share/opencog/scm\")\n"
   ]
  },
  {
   "cell_type": "markdown",
   "metadata": {},
   "source": [
    "Now load all required modules."
   ]
  },
  {
   "cell_type": "code",
   "execution_count": 2,
   "metadata": {},
   "outputs": [],
   "source": [
    "(use-modules (opencog) (opencog patternminer))"
   ]
  },
  {
   "cell_type": "markdown",
   "metadata": {},
   "source": [
    "The Pattern Miner look for the patterns in the Atomspace. So, before running it we need to feed Atomspace with the data we want to extract patterns from.\n",
    "\n",
    "In this tutorial we'll use a toy dataset whith information about hypotetical people:\n",
    "\n",
    "- 20 people\n",
    "- 10 are men, 10 are ugly and 10 are soda drinkers\n",
    "- 5 are ugly men\n",
    "- 5 are ugly soda drinkers\n",
    "- 5 are male soda drinkers\n",
    "- 5 are ugly male soda drinkers\n",
    "\n",
    "We can load a dataset with the following command:"
   ]
  },
  {
   "cell_type": "code",
   "execution_count": 3,
   "metadata": {},
   "outputs": [
    {
     "data": {
      "text/plain": [
       "(InheritanceLink (stv 1 1)\n",
       "   (ConceptNode \"Kecia\")\n",
       "   (ConceptNode \"soda drinker\")\n",
       ")\n"
      ]
     },
     "execution_count": 3,
     "metadata": {},
     "output_type": "execute_result"
    }
   ],
   "source": [
    "(load \"ugly_male_soda-drinker_corpus.scm\")"
   ]
  },
  {
   "cell_type": "markdown",
   "metadata": {},
   "source": [
    "The output is the last load Atom. It's not important for our tutorial.\n",
    "\n",
    "Now, to run the Pattern Miner we should call:"
   ]
  },
  {
   "cell_type": "code",
   "execution_count": 4,
   "metadata": {},
   "outputs": [
    {
     "data": {
      "text/plain": [
       "()"
      ]
     },
     "execution_count": 4,
     "metadata": {},
     "output_type": "execute_result"
    }
   ],
   "source": [
    "(pm-run-patternminer)"
   ]
  },
  {
   "cell_type": "code",
   "execution_count": null,
   "metadata": {},
   "outputs": [],
   "source": []
  }
 ],
 "metadata": {
  "kernelspec": {
   "display_name": "Guile",
   "language": "scheme",
   "name": "guile-kernel"
  },
  "language_info": {
   "codemirror_mode": "scheme",
   "file_extension": ".scm",
   "mimetype": "application/x-scheme",
   "name": "guile",
   "pygments_lexer": "scheme",
   "version": "2.0.0"
  }
 },
 "nbformat": 4,
 "nbformat_minor": 1
}
