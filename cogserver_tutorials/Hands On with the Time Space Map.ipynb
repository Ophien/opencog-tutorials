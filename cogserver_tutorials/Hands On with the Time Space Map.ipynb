{
 "cells": [
  {
   "cell_type": "markdown",
   "metadata": {},
   "source": [
    "# Hands On with the Time Space Map"
   ]
  },
  {
   "cell_type": "markdown",
   "metadata": {},
   "source": [
    "Time Space Map allows efficiently representing objects in a spatial map and some number of past spatial maps, so that opencog can access and process such data with a good compute performance. This kind of storage is a kind of probabilistic point cloud information over a period of time. We use octomap library and add a time buffer with relationship and access query functions exposed for programmers to store and process such data. this hans on assumes you have basic understanding of how to use cogserver from command line and are familiar with some basics of opencog along familiarity with scheme (guile) [Note: Working demo can be seen in ros-behavior-scripting git repository in file \"src/time-map.scm\"]\n",
    "\n",
    "First of all, tell guile where it can find opencog stuff. You might want to add the following line to your .guile so it will do it at startup."
   ]
  },
  {
   "cell_type": "code",
   "execution_count": 1,
   "metadata": {},
   "outputs": [],
   "source": [
    "(add-to-load-path \"/usr/local/share/opencog/scm\")"
   ]
  },
  {
   "cell_type": "markdown",
   "metadata": {},
   "source": [
    "Now load all required modules."
   ]
  },
  {
   "cell_type": "code",
   "execution_count": 2,
   "metadata": {},
   "outputs": [],
   "source": [
    "(use-modules (opencog) (opencog atom-types)(opencog pointmem) (opencog spacetime))"
   ]
  },
  {
   "cell_type": "markdown",
   "metadata": {},
   "source": [
    "Now we can create a map (named \"MyMap\"). The following command creates an opencog space-time map, for storing locations of objects. Our map will be update every 66 millisdeconds (about 15 Hz), and will buffer 150 frames (about 10 seconds), and work with a one centimeter resolution (the native coords of the map are meters).\n"
   ]
  },
  {
   "cell_type": "code",
   "execution_count": 3,
   "metadata": {},
   "outputs": [
    {
     "data": {
      "text/plain": [
       "(SpaceMapNode \"MyMap\")\n"
      ]
     },
     "execution_count": 3,
     "metadata": {},
     "output_type": "execute_result"
    }
   ],
   "source": [
    "(cog-pointmem-create-map (SpaceMapNode \"MyMap\") (ListLink (NumberNode 0.01) (NumberNode 66) (NumberNode 150)))"
   ]
  },
  {
   "cell_type": "markdown",
   "metadata": {},
   "source": [
    "This should return (SpaceMapNode \"MyMap\").\n",
    "Now we can either step time units automatically or manually. \n",
    "\n",
    "Automatic time steps can be toggled using:\n",
    "\n",
    "- (cog-pointmem-auto-step-time-on (SpaceMapNode \"MyMap\"))\n",
    "- (cog-pointmem-auto-step-time-off (SpaceMapNode \"MyMap\"))\n",
    "\n",
    "In this tutorial we will do it manually using:"
   ]
  },
  {
   "cell_type": "code",
   "execution_count": 4,
   "metadata": {},
   "outputs": [
    {
     "data": {
      "text/plain": [
       "()"
      ]
     },
     "execution_count": 4,
     "metadata": {},
     "output_type": "execute_result"
    }
   ],
   "source": [
    "(cog-pointmem-step-time-unit (SpaceMapNode \"MyMap\"))\n"
   ]
  },
  {
   "cell_type": "markdown",
   "metadata": {},
   "source": [
    "Manual time step has to be done each time we need to create a new discrete time unit to attach atoms. The following call will map the (NumberNode 10) to the coordinates (1, 1, 1)and the time unit we have just created in the previous command."
   ]
  },
  {
   "cell_type": "code",
   "execution_count": 5,
   "metadata": {},
   "outputs": [
    {
     "data": {
      "text/plain": [
       "(NumberNode \"10.000000\")\n"
      ]
     },
     "execution_count": 5,
     "metadata": {},
     "output_type": "execute_result"
    }
   ],
   "source": [
    "(cog-pointmem-map-atom (SpaceMapNode \"MyMap\") \n",
    "                       (NumberNode 10) \n",
    "                       (ListLink \n",
    "                           (NumberNode 1.0) \n",
    "                           (NumberNode 1.0) \n",
    "                           (NumberNode 1.0)))"
   ]
  },
  {
   "cell_type": "markdown",
   "metadata": {},
   "source": [
    "We can query for atoms using several functions like:"
   ]
  },
  {
   "cell_type": "code",
   "execution_count": 6,
   "metadata": {},
   "outputs": [
    {
     "data": {
      "text/plain": [
       "(SetLink\n",
       "   (AtLocationLink\n",
       "      (SpaceMapNode \"MyMap\")\n",
       "      (ListLink\n",
       "         (NumberNode \"10.000000\")\n",
       "         (ListLink\n",
       "            (NumberNode \"1.005000\")\n",
       "            (NumberNode \"1.005000\")\n",
       "            (NumberNode \"1.005000\")\n",
       "         )\n",
       "      )\n",
       "   )\n",
       ")\n"
      ]
     },
     "execution_count": 6,
     "metadata": {},
     "output_type": "execute_result"
    }
   ],
   "source": [
    " (cog-pointmem-get-locs-of-atom (SpaceMapNode \"MyMap\") (NumberNode 10))"
   ]
  },
  {
   "cell_type": "markdown",
   "metadata": {},
   "source": [
    "The output of the above command should be:\n",
    "\n",
    "    (SetLink\n",
    "\n",
    "     (AtLocationLink\n",
    "   \n",
    "      (SpaceMapNode \"MyMap\")\n",
    "      (ListLink      \n",
    "      \n",
    "         (NumberNode \"10.000000\")\n",
    "         \n",
    "         (ListLink\n",
    "            (NumberNode \"1.005000\")\n",
    "            (NumberNode \"1.005000\")\n",
    "            (NumberNode \"1.005000\")\n",
    "         )\n",
    "      )\n",
    "   )\n",
    ")"
   ]
  },
  {
   "cell_type": "markdown",
   "metadata": {},
   "source": [
    "or try this command:\n",
    "\n"
   ]
  },
  {
   "cell_type": "code",
   "execution_count": 7,
   "metadata": {},
   "outputs": [
    {
     "data": {
      "text/plain": [
       "(SetLink\n",
       "   (AtTimeLink\n",
       "      (NumberNode \"10.000000\")\n",
       "      (TimeNode \"2018-10-05 12:00:03 771\")\n",
       "   )\n",
       ")\n"
      ]
     },
     "execution_count": 7,
     "metadata": {},
     "output_type": "execute_result"
    }
   ],
   "source": [
    "(cog-pointmem-get-elapsed-list (SpaceMapNode \"MyMap\") (NumberNode 10))"
   ]
  },
  {
   "cell_type": "markdown",
   "metadata": {},
   "source": [
    "The output of the above command should be:\n",
    "\n",
    "(SetLink\n",
    "   (AtTimeLink\n",
    "      (NumberNode \"10.000000\")\n",
    "      (TimeNode \"2017-02-01 16:08:19 352\")\n",
    "   )\n",
    ")"
   ]
  },
  {
   "cell_type": "markdown",
   "metadata": {},
   "source": [
    "Of course the time node will not have the same datetime as specified above\n",
    "\n",
    "To add an observation after the first time slot of 66 milliseconds elapses, we should time step again."
   ]
  },
  {
   "cell_type": "code",
   "execution_count": 8,
   "metadata": {},
   "outputs": [
    {
     "data": {
      "text/plain": [
       "()"
      ]
     },
     "execution_count": 8,
     "metadata": {},
     "output_type": "execute_result"
    }
   ],
   "source": [
    " (cog-pointmem-step-time-unit (SpaceMapNode \"MyMap\"))"
   ]
  },
  {
   "cell_type": "markdown",
   "metadata": {},
   "source": [
    "Now, adding the same NumberNode to the map and querying for elapsed list gives:"
   ]
  },
  {
   "cell_type": "code",
   "execution_count": 9,
   "metadata": {},
   "outputs": [
    {
     "data": {
      "text/plain": [
       "(SetLink\n",
       "   (AtTimeLink\n",
       "      (NumberNode \"10.000000\")\n",
       "      (TimeNode \"2018-10-05 12:00:03 837\")\n",
       "   )\n",
       "   (AtTimeLink\n",
       "      (NumberNode \"10.000000\")\n",
       "      (TimeNode \"2018-10-05 12:00:03 771\")\n",
       "   )\n",
       ")\n"
      ]
     },
     "execution_count": 9,
     "metadata": {},
     "output_type": "execute_result"
    }
   ],
   "source": [
    "(cog-pointmem-map-atom (SpaceMapNode \"MyMap\") \n",
    "                       (NumberNode 10) \n",
    "                       (ListLink \n",
    "                           (NumberNode 2.0) \n",
    "                           (NumberNode 1.0) \n",
    "                           (NumberNode 1.0)))\n",
    "(cog-pointmem-get-elapsed-list (SpaceMapNode \"MyMap\") (NumberNode 10))\n"
   ]
  },
  {
   "cell_type": "markdown",
   "metadata": {},
   "source": [
    "Now we see two \"occurrences\" of the tracked NumberNode at different timestamps. Now we can see how the position of the tracked NumberNode changed in time. The last argument (NumberNode n) in the calls below means we want to know the position of the tracked Node at the timestamp (NOW - n)."
   ]
  },
  {
   "cell_type": "code",
   "execution_count": 10,
   "metadata": {},
   "outputs": [
    {
     "data": {
      "text/plain": [
       "(SetLink\n",
       "   (AtLocationLink\n",
       "      (SpaceMapNode \"MyMap\")\n",
       "      (ListLink\n",
       "         (NumberNode \"10.000000\")\n",
       "         (ListLink\n",
       "            (NumberNode \"1.005000\")\n",
       "            (NumberNode \"1.005000\")\n",
       "            (NumberNode \"1.005000\")\n",
       "         )\n",
       "      )\n",
       "   )\n",
       ")\n"
      ]
     },
     "execution_count": 10,
     "metadata": {},
     "output_type": "execute_result"
    }
   ],
   "source": [
    "(cog-pointmem-get-past-locs-of-atom (SpaceMapNode \"MyMap\") \n",
    "                                    (NumberNode 10)\n",
    "                                    (NumberNode 66))"
   ]
  },
  {
   "cell_type": "code",
   "execution_count": 11,
   "metadata": {},
   "outputs": [
    {
     "data": {
      "text/plain": [
       "(SetLink\n",
       "   (AtLocationLink\n",
       "      (SpaceMapNode \"MyMap\")\n",
       "      (ListLink\n",
       "         (NumberNode \"10.000000\")\n",
       "         (ListLink\n",
       "            (NumberNode \"2.005000\")\n",
       "            (NumberNode \"1.005000\")\n",
       "            (NumberNode \"1.005000\")\n",
       "         )\n",
       "      )\n",
       "   )\n",
       ")\n"
      ]
     },
     "execution_count": 11,
     "metadata": {},
     "output_type": "execute_result"
    }
   ],
   "source": [
    "(cog-pointmem-get-past-locs-of-atom (SpaceMapNode \"MyMap\") \n",
    "                                    (NumberNode 10)\n",
    "                                    (NumberNode 0))"
   ]
  },
  {
   "cell_type": "markdown",
   "metadata": {},
   "source": [
    "This output means that the tracked object [(NumberNode 10) in our tutorial] changed from position (1,1,1) to (2,1,1) in the last 60 miliseconds."
   ]
  }
 ],
 "metadata": {
  "kernelspec": {
   "display_name": "Guile",
   "language": "scheme",
   "name": "guile-kernel"
  },
  "language_info": {
   "codemirror_mode": "scheme",
   "file_extension": ".scm",
   "mimetype": "application/x-scheme",
   "name": "guile",
   "pygments_lexer": "scheme",
   "version": "2.0.0"
  }
 },
 "nbformat": 4,
 "nbformat_minor": 1
}
