{
 "cells": [
  {
   "cell_type": "markdown",
   "metadata": {},
   "source": [
    "# Hands On with the Time Space Map"
   ]
  },
  {
   "cell_type": "markdown",
   "metadata": {},
   "source": [
    "Enter the 'build' directory.. (note that the build directory might be in ~/opencog/opencog/ - this depends on the directory structure of your install)\n",
    "\n",
    "1. Start the cogserver with telnet port 17001:\n",
    "\n",
    "    -  build$ ./opencog/cogserver/server/cogserver\n",
    "2. telnet to cogserver from command line:\n",
    "\n",
    "   -  build$ rlwrap telnet localhost 17001\n",
    "   Note: rlwrap allows you to use arrow keys and for history to be maintained\n",
    "\n",
    "3. To enter scheme (the guile shell) on the opencog> prompt type \"scm\" to get into guile shell\n",
    "\n",
    "   opencog> scm\n",
    "\n",
    "4. on guile prompt type:"
   ]
  },
  {
   "cell_type": "code",
   "execution_count": 1,
   "metadata": {
    "collapsed": false
   },
   "outputs": [
    {
     "ename": "misc-error",
     "evalue": "(dynamic-link file: ~S, message: ~S (libattention-types file not found) #f)",
     "output_type": "error",
     "traceback": [
      "\u001b[0;31mmisc-error\u001b[0;32m",
      "(dynamic-link file: ~S, message: ~S (libattention-types file not found) #f)"
     ]
    }
   ],
   "source": [
    "(use-modules (opencog) (opencog atom-types)(opencog ato pointmem))"
   ]
  },
  {
   "cell_type": "markdown",
   "metadata": {},
   "source": [
    "5. We now first create a map with name \"faces\" - This creates an opencog space-time map, for storing locations of faces. This map will be udates every 66 millisdeconds (about 15 Hz), and will buffer 150 frames (about 10 seconds), and work with a one centimeter resolution (the native coords of the map are meters).\n"
   ]
  },
  {
   "cell_type": "code",
   "execution_count": 2,
   "metadata": {
    "collapsed": false
   },
   "outputs": [
    {
     "ename": "unbound-variable",
     "evalue": "(#f Unbound variable: ~S (create-map) #f)",
     "output_type": "error",
     "traceback": [
      "\u001b[0;31munbound-variable\u001b[0;32m",
      "(#f Unbound variable: ~S (create-map) #f)"
     ]
    }
   ],
   "source": [
    "(create-map \"faces\" 0.01 66 150)"
   ]
  },
  {
   "cell_type": "markdown",
   "metadata": {},
   "source": [
    "this should return true #t\n",
    "\n",
    "6. we can now either step time units automatically or manually. For this hands on we will do it manually, but automatic time stepping is possible too For automatic time step __Do Not run the command '(auto-step-time-on \"faces\")' for this hands on tutorial__"
   ]
  },
  {
   "cell_type": "code",
   "execution_count": 4,
   "metadata": {
    "collapsed": false
   },
   "outputs": [
    {
     "ename": "read-error",
     "evalue": "(scm_i_lreadparen #<unknown port>:2:31: end of file () #f)",
     "output_type": "error",
     "traceback": [
      "\u001b[0;31mread-error\u001b[0;32m",
      "(scm_i_lreadparen #<unknown port>:2:31: end of file () #f)"
     ]
    }
   ],
   "source": [
    " ; Run the map in a new thread. This will automtically create a new time-slice every 66 milliseconds.\n",
    " ;(auto-step-time-on \"faces\")"
   ]
  },
  {
   "cell_type": "markdown",
   "metadata": {},
   "source": [
    "Manual time step is done by typing:"
   ]
  },
  {
   "cell_type": "code",
   "execution_count": 5,
   "metadata": {
    "collapsed": false
   },
   "outputs": [
    {
     "ename": "unbound-variable",
     "evalue": "(#f Unbound variable: ~S (step-time-unit) #f)",
     "output_type": "error",
     "traceback": [
      "\u001b[0;31munbound-variable\u001b[0;32m",
      "(#f Unbound variable: ~S (step-time-unit) #f)"
     ]
    }
   ],
   "source": [
    "(step-time-unit \"faces\")\n"
   ]
  },
  {
   "cell_type": "markdown",
   "metadata": {},
   "source": [
    "Manual time step has to be done each time we need to create a map for a new discrete time unit\n",
    "\n",
    "7. We now add an atom at a point in map by:"
   ]
  },
  {
   "cell_type": "code",
   "execution_count": 7,
   "metadata": {
    "collapsed": false
   },
   "outputs": [
    {
     "ename": "read-error",
     "evalue": "(scm_i_lreadparen #<unknown port>:2:49: end of file () #f)",
     "output_type": "error",
     "traceback": [
      "\u001b[0;31mread-error\u001b[0;32m",
      "(scm_i_lreadparen #<unknown port>:2:49: end of file () #f)"
     ]
    }
   ],
   "source": [
    " (map-ato \"faces\" (NumberNode 10) 1.0 1.0 1.0)\n",
    "  ;function map-ato takes map name, atom, x,y,z"
   ]
  },
  {
   "cell_type": "markdown",
   "metadata": {},
   "source": [
    "this should return true #t\n",
    "8. To query the atom we have several functions like"
   ]
  },
  {
   "cell_type": "code",
   "execution_count": 8,
   "metadata": {
    "collapsed": false
   },
   "outputs": [
    {
     "ename": "unbound-variable",
     "evalue": "(#f Unbound variable: ~S (get-locs-ato) #f)",
     "output_type": "error",
     "traceback": [
      "\u001b[0;31munbound-variable\u001b[0;32m",
      "(#f Unbound variable: ~S (get-locs-ato) #f)"
     ]
    }
   ],
   "source": [
    " (get-locs-ato \"faces\" (NumberNode 10))"
   ]
  },
  {
   "cell_type": "markdown",
   "metadata": {},
   "source": [
    "The output of the above command should be:\n",
    "\n",
    "    (SetLink\n",
    "\n",
    "     (AtLocationLink\n",
    "   \n",
    "      (ObjectNode \"faces\")\n",
    "      (ListLink      \n",
    "      \n",
    "         (NumberNode \"10.000000\")\n",
    "         \n",
    "         (ListLink\n",
    "            (NumberNode \"1.005000\")\n",
    "            (NumberNode \"1.005000\")\n",
    "            (NumberNode \"1.005000\")\n",
    "         )\n",
    "      )\n",
    "   )\n",
    ")"
   ]
  },
  {
   "cell_type": "markdown",
   "metadata": {},
   "source": [
    "or try this command:\n",
    "\n"
   ]
  },
  {
   "cell_type": "code",
   "execution_count": 9,
   "metadata": {
    "collapsed": false
   },
   "outputs": [
    {
     "ename": "unbound-variable",
     "evalue": "(#f Unbound variable: ~S (get-elapse-list-ato) #f)",
     "output_type": "error",
     "traceback": [
      "\u001b[0;31munbound-variable\u001b[0;32m",
      "(#f Unbound variable: ~S (get-elapse-list-ato) #f)"
     ]
    }
   ],
   "source": [
    "(get-elapse-list-ato \"faces\" (NumberNode 10))"
   ]
  },
  {
   "cell_type": "markdown",
   "metadata": {},
   "source": [
    "The output of the above command should be:\n",
    "\n",
    "(SetLink\n",
    "   (AtTimeLink\n",
    "      (TimeNode \"2017-02-01 16:08:19 352\")\n",
    "      (NumberNode \"10.000000\")\n",
    "   )\n",
    ")"
   ]
  },
  {
   "cell_type": "markdown",
   "metadata": {},
   "source": [
    "Of course the time node will not have the same datetime as specified above\n",
    "\n",
    "9. To add an observation after the first time slot of 66 milliseconds elapses, we time step again. [We chose manual time step so that we can observe how the system works under auto time step for each time step]. First we time step the map: [This should not be done when auto time step is on]"
   ]
  },
  {
   "cell_type": "code",
   "execution_count": 11,
   "metadata": {
    "collapsed": false
   },
   "outputs": [
    {
     "ename": "unbound-variable",
     "evalue": "(#f Unbound variable: ~S (step-time-unit) #f)",
     "output_type": "error",
     "traceback": [
      "\u001b[0;31munbound-variable\u001b[0;32m",
      "(#f Unbound variable: ~S (step-time-unit) #f)"
     ]
    }
   ],
   "source": [
    " (step-time-unit \"faces\") "
   ]
  },
  {
   "cell_type": "code",
   "execution_count": null,
   "metadata": {
    "collapsed": true
   },
   "outputs": [],
   "source": []
  }
 ],
 "metadata": {
  "kernelspec": {
   "display_name": "Guile",
   "language": "scheme",
   "name": "guile"
  },
  "language_info": {
   "codemirror_mode": "scheme",
   "file_extension": ".scm",
   "mimetype": "application/x-scheme",
   "name": "guile",
   "pygments_lexer": "scheme",
   "version": "2.2.0"
  }
 },
 "nbformat": 4,
 "nbformat_minor": 0
}
